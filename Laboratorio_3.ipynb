{
  "cells": [
    {
      "cell_type": "code",
      "execution_count": null,
      "metadata": {
        "id": "-roP7R3hgzpb"
      },
      "outputs": [],
      "source": [
        "import numpy as np\n",
        "import pandas as pd\n",
        "import re\n",
        "import os"
      ]
    },
    {
      "cell_type": "markdown",
      "metadata": {
        "id": "-cf9JP1_gzpd"
      },
      "source": [
        "1. implemente una regex para validar un correo electrónico en general, a continuación, se muestran algunos ejemplos:\n",
        "\n",
        "    Guate.360-porelmundo@miguate.com\n",
        "\n",
        "    Miercoles3@hotmail.com\n",
        "\n",
        "    Progra3.galileo@galileo.edu\n"
      ]
    },
    {
      "cell_type": "code",
      "execution_count": null,
      "metadata": {
        "colab": {
          "base_uri": "https://localhost:8080/"
        },
        "id": "DYOaxqEvgzpf",
        "outputId": "cd63bd73-c8d1-4dd4-ac5d-3568fbecd842"
      },
      "outputs": [
        {
          "output_type": "stream",
          "name": "stdout",
          "text": [
            "Por favor, ingresa un texto: jemaldosan@gmail.com\n",
            "jemaldosan@gmail.com es una dirección de correo electrónico válida.\n"
          ]
        }
      ],
      "source": [
        "# Definir Códgio regex\n",
        "def validar_correo(correo):\n",
        "    patron = r\"^[a-zA-Z0-9._%+-]+@[a-zA-Z0-9.-]+\\.[a-zA-Z]{2,}$\"\n",
        "    if re.match(patron, correo):\n",
        "        return True\n",
        "    else:\n",
        "        return False\n",
        "\n",
        "texto = input(\"Por favor, ingresa un texto: \")\n",
        "\n",
        "# Validar si el texto ingresado es una dirección de correo electrónico\n",
        "if validar_correo(texto):\n",
        "    print(f\"{texto} es una dirección de correo electrónico válida.\")\n",
        "else:\n",
        "    print(f\"{texto} no es una dirección de correo electrónico válida.\")"
      ]
    },
    {
      "cell_type": "markdown",
      "metadata": {
        "id": "J9JYhxIjgzpg"
      },
      "source": [
        "2. implemente una regex para validar la dirección url de una página web con los tipos de domino (.com, .org, .edu). Note que la url incluye el protocolo (http o https) y los símbolos (//www.).\n",
        "\n",
        "    A continuación, se muestran algunos ejemplos:\n",
        "\n",
        "    https://www.guate360-porelmundo.com\n",
        "\n",
        "    http://www.a2.net\n",
        "\n",
        "    https://www.galileo.edu\n",
        "\n",
        "    http://www.8.org (No valida)"
      ]
    },
    {
      "cell_type": "code",
      "execution_count": null,
      "metadata": {
        "colab": {
          "base_uri": "https://localhost:8080/"
        },
        "id": "PxgtLbQIgzph",
        "outputId": "75ba64b3-9d76-48f8-a547-d9ae58551c46"
      },
      "outputs": [
        {
          "output_type": "stream",
          "name": "stdout",
          "text": [
            "Por favor, ingresa un texto: https://www.galileo.edu\n",
            "https://www.galileo.edu es una dirección web válida.\n"
          ]
        }
      ],
      "source": [
        "# Definir Códgio regex\n",
        "def validar_url(url):\n",
        "    patron = r\"^(https?://www\\.)[a-zA-Z0-9.-]+\\.(com|org|edu)$\"\n",
        "    if re.match(patron, url):\n",
        "        return True\n",
        "    else:\n",
        "        return False\n",
        "\n",
        "texto = input(\"Por favor, ingresa un texto: \")\n",
        "\n",
        "# Validar si el texto ingresado es una dirección web válida\n",
        "if validar_url(texto):\n",
        "    print(f\"{texto} es una dirección web válida.\")\n",
        "else:\n",
        "    print(f\"{texto} no es una dirección web válida.\")"
      ]
    },
    {
      "cell_type": "markdown",
      "metadata": {
        "id": "6PMT0RF_gzph"
      },
      "source": [
        "3. implemente una regex para validar una MAC Address, notar que las mac address están divididas en 6 bloques de caracteres hexadecimales, es decir que los símbolos solo pueden variar del 0 al 9 y las letras de la A a la F.\n",
        "    A continuación se muestran algunos ejemplos:\n",
        "\n",
        "    5A 6F AF 8C 9B 1D\n",
        "\n",
        "    6D 6C 4D 3A EB 3F\n",
        "    \n",
        "    3A 7C FA C8 6D 4J (no valida por que el ultimo bloque contiene una J)\n"
      ]
    },
    {
      "cell_type": "code",
      "execution_count": null,
      "metadata": {
        "colab": {
          "base_uri": "https://localhost:8080/"
        },
        "id": "vw5sgWxCgzpi",
        "outputId": "ba239876-179c-40c7-abd3-97038dc9a753"
      },
      "outputs": [
        {
          "output_type": "stream",
          "name": "stdout",
          "text": [
            "Por favor, ingresa un texto: 5A 6F AF 8C 9B 1D\n",
            "5A 6F AF 8C 9B 1D es una MAC Address válida.\n"
          ]
        }
      ],
      "source": [
        "# Definir Códgio regex\n",
        "def validar_mac(mac):\n",
        "    patron = r'^([0-9A-Fa-f]{2} ){5}[0-9A-Fa-f]{2}$'\n",
        "    if re.match(patron, mac):\n",
        "        return True\n",
        "    else:\n",
        "        return False\n",
        "\n",
        "texto = input(\"Por favor, ingresa un texto: \")\n",
        "\n",
        "# Validar si el texto ingresado es una MAC Address válida\n",
        "if validar_mac(texto):\n",
        "    print(f\"{texto} es una MAC Address válida.\")\n",
        "else:\n",
        "    print(f\"{texto} no es una MAC Address válida.\")"
      ]
    },
    {
      "cell_type": "markdown",
      "metadata": {
        "id": "1ftuaNTcgzpi"
      },
      "source": [
        "4. implemente una regex para validar una dirección IPv4, notar que las direcciones IPv4 están divididas en 4 bloques de valores los cuales solo pueden ir desde 0 hasta 255, una ip donde algunos de sus bloques sean mayor a 255 no es válida, además tome en cuenta que cada bloque está separada por un punto.\n",
        "    A continuación se muestran algunos ejemplos:\n",
        "\n",
        "    192.16.8.1\n",
        "\n",
        "    234.56.78.90\n",
        "\n",
        "    1.2.3.4\n",
        "    \n",
        "    192.168.45.345 (no valida por que el ultimo bloque es mayor a 255)\n"
      ]
    },
    {
      "cell_type": "code",
      "execution_count": null,
      "metadata": {
        "colab": {
          "base_uri": "https://localhost:8080/"
        },
        "id": "XjimUX1igzpj",
        "outputId": "283a455b-bfb1-4cf5-b9b5-49e340cea50c"
      },
      "outputs": [
        {
          "output_type": "stream",
          "name": "stdout",
          "text": [
            "Por favor, ingresa un texto: 234.56.78.90\n",
            "234.56.78.90 es una IP válida.\n"
          ]
        }
      ],
      "source": [
        "# Definir Códgio regex\n",
        "def validar_ipv4(ip):\n",
        "    patron = r'^(25[0-5]|2[0-4][0-9]|[01]?[0-9][0-9]?)\\.(25[0-5]|2[0-4][0-9]|[01]?[0-9][0-9]?)\\.(25[0-5]|2[0-4][0-9]|[01]?[0-9][0-9]?)\\.(25[0-5]|2[0-4][0-9]|[01]?[0-9][0-9]?)$'\n",
        "    if re.match(patron, ip):\n",
        "        return True\n",
        "    else:\n",
        "        return False\n",
        "\n",
        "texto = input(\"Por favor, ingresa un texto: \")\n",
        "\n",
        "# Validar si el texto ingresado es una IP  válida\n",
        "if validar_ipv4(texto):\n",
        "    print(f\"{texto} es una IP válida.\")\n",
        "else:\n",
        "    print(f\"{texto} no es una IP válida.\")"
      ]
    },
    {
      "cell_type": "markdown",
      "metadata": {
        "id": "sXFqdzDAgzpj"
      },
      "source": [
        "5. Implemente una regex para validar una fecha con la secuencia día-mes-año donde el día, mes y año puedan estar separados ya sea por el carácter “/” o el carácter “-“ o el carácter “.”, notar que las fechas son válidas si los si los días están definidos desde el 1 al 31, el mes del 1 al 12 y el año de 2000 al 2019. También debe tomar en cuenta que los días y meses pueden estar escritos ya sea con uno o dos caracteres, por ejemplo: Enero puede escribirse como 1 o como 01. Los años también pueden expresarse ya sea con dos o con cuatro caracteres, por ejemplo: 19 o 2019 son válidos.\n",
        "\n",
        "    A continuación, se muestran algunos ejemplos:\n",
        "\n",
        "    20/1/2019\n",
        "\n",
        "    12.03.2005\n",
        "\n",
        "    31-11-08\n",
        "\n",
        "    1-1-2012\n",
        "    \n",
        "    12-12-22 (no valida, porque el año supera al 2019)."
      ]
    },
    {
      "cell_type": "markdown",
      "source": [
        "### Problema 2:\n",
        "  Utilice Python y expresiones regulares para encontrar el día, mes y año promedio total del los 21 archivos, los resultados deben ser un double."
      ],
      "metadata": {
        "id": "TmItMvGGu-EO"
      }
    },
    {
      "cell_type": "code",
      "execution_count": null,
      "metadata": {
        "colab": {
          "base_uri": "https://localhost:8080/"
        },
        "id": "sU4-tfhigzpk",
        "outputId": "e0861d27-6ff0-41d1-a2c8-633d3e3c6323"
      },
      "outputs": [
        {
          "output_type": "stream",
          "name": "stdout",
          "text": [
            "Por favor, ingresa un texto: 12.09.19\n",
            "12.09.19 es una fecha válida.\n"
          ]
        }
      ],
      "source": [
        "# Definir Códgio regex\n",
        "def validar_fecha(fecha):\n",
        "    patron = r'^(0[1-9]|[12][0-9]|3[01])[-./](0[1-9]|1[0-2])[-./](20\\d{2}|[0-9]{2})$'\n",
        "    if re.match(patron, fecha):\n",
        "        return True\n",
        "    else:\n",
        "        return False\n",
        "\n",
        "texto = input(\"Por favor, ingresa un texto: \")\n",
        "\n",
        "# Validar si el texto ingresado es una fecha  válida\n",
        "if validar_fecha(texto):\n",
        "    print(f\"{texto} es una fecha válida.\")\n",
        "else:\n",
        "    print(f\"{texto} no es una fecha válida.\")"
      ]
    },
    {
      "cell_type": "code",
      "source": [
        "from google.colab import drive\n",
        "drive.mount('/content/drive')"
      ],
      "metadata": {
        "colab": {
          "base_uri": "https://localhost:8080/"
        },
        "id": "cdnh_5g6hVo2",
        "outputId": "de21d36a-e6c3-473f-da9b-0c5241c72680"
      },
      "execution_count": null,
      "outputs": [
        {
          "output_type": "stream",
          "name": "stdout",
          "text": [
            "Drive already mounted at /content/drive; to attempt to forcibly remount, call drive.mount(\"/content/drive\", force_remount=True).\n"
          ]
        }
      ]
    },
    {
      "cell_type": "code",
      "execution_count": null,
      "metadata": {
        "colab": {
          "base_uri": "https://localhost:8080/",
          "height": 1000
        },
        "id": "YBAu-HLBgzpk",
        "outputId": "b22cc8d1-3735-49a7-bce0-29a2de54ab11"
      },
      "outputs": [
        {
          "output_type": "execute_result",
          "data": {
            "text/plain": [
              "         Fecha\n",
              "0   24/06/2018\n",
              "1   18/12/2018\n",
              "2   18/09/2017\n",
              "3   12/02/2018\n",
              "4   14/09/2015\n",
              "5   24/12/2014\n",
              "6   29/09/2016\n",
              "7   17/04/2017\n",
              "8   06/08/2015\n",
              "9   04/06/2017\n",
              "10  20/12/2014\n",
              "11  14/07/2015\n",
              "12  11/03/2018\n",
              "13  07/06/2018\n",
              "14  22/07/2015\n",
              "15  23/09/2016\n",
              "16  06/07/2018\n",
              "17  14/08/2018\n",
              "18  10/11/2018\n",
              "19  10/05/2018\n",
              "20  25/11/2017\n",
              "21  26/05/2018\n",
              "22  18/12/2014\n",
              "23  29/08/2017\n",
              "24  31/08/2015\n",
              "25  03/11/2014\n",
              "26  28/04/2015\n",
              "27  29/09/2016\n",
              "28  13/02/2015\n",
              "29  08/02/2018\n",
              "30  16/05/2018\n",
              "31  19/10/2016\n",
              "32  01/05/2015\n",
              "33  20/11/2015\n",
              "34  12/09/2018\n",
              "35  23/01/2015\n",
              "36  18/06/2016\n",
              "37  05/04/2015\n",
              "38  27/11/2018\n",
              "39  12/09/2016\n",
              "40  16/10/2014\n",
              "41  05/12/2015\n",
              "42  18/02/2018\n",
              "43  12/05/2015\n",
              "44  25/03/2016\n",
              "45  24/03/2019\n",
              "46  06/11/2015\n",
              "47  04/01/2016\n",
              "48  01/03/2019\n",
              "49  14/11/2015"
            ],
            "text/html": [
              "\n",
              "  <div id=\"df-93550df9-c76c-4806-99d9-ec87e17d37ad\" class=\"colab-df-container\">\n",
              "    <div>\n",
              "<style scoped>\n",
              "    .dataframe tbody tr th:only-of-type {\n",
              "        vertical-align: middle;\n",
              "    }\n",
              "\n",
              "    .dataframe tbody tr th {\n",
              "        vertical-align: top;\n",
              "    }\n",
              "\n",
              "    .dataframe thead th {\n",
              "        text-align: right;\n",
              "    }\n",
              "</style>\n",
              "<table border=\"1\" class=\"dataframe\">\n",
              "  <thead>\n",
              "    <tr style=\"text-align: right;\">\n",
              "      <th></th>\n",
              "      <th>Fecha</th>\n",
              "    </tr>\n",
              "  </thead>\n",
              "  <tbody>\n",
              "    <tr>\n",
              "      <th>0</th>\n",
              "      <td>24/06/2018</td>\n",
              "    </tr>\n",
              "    <tr>\n",
              "      <th>1</th>\n",
              "      <td>18/12/2018</td>\n",
              "    </tr>\n",
              "    <tr>\n",
              "      <th>2</th>\n",
              "      <td>18/09/2017</td>\n",
              "    </tr>\n",
              "    <tr>\n",
              "      <th>3</th>\n",
              "      <td>12/02/2018</td>\n",
              "    </tr>\n",
              "    <tr>\n",
              "      <th>4</th>\n",
              "      <td>14/09/2015</td>\n",
              "    </tr>\n",
              "    <tr>\n",
              "      <th>5</th>\n",
              "      <td>24/12/2014</td>\n",
              "    </tr>\n",
              "    <tr>\n",
              "      <th>6</th>\n",
              "      <td>29/09/2016</td>\n",
              "    </tr>\n",
              "    <tr>\n",
              "      <th>7</th>\n",
              "      <td>17/04/2017</td>\n",
              "    </tr>\n",
              "    <tr>\n",
              "      <th>8</th>\n",
              "      <td>06/08/2015</td>\n",
              "    </tr>\n",
              "    <tr>\n",
              "      <th>9</th>\n",
              "      <td>04/06/2017</td>\n",
              "    </tr>\n",
              "    <tr>\n",
              "      <th>10</th>\n",
              "      <td>20/12/2014</td>\n",
              "    </tr>\n",
              "    <tr>\n",
              "      <th>11</th>\n",
              "      <td>14/07/2015</td>\n",
              "    </tr>\n",
              "    <tr>\n",
              "      <th>12</th>\n",
              "      <td>11/03/2018</td>\n",
              "    </tr>\n",
              "    <tr>\n",
              "      <th>13</th>\n",
              "      <td>07/06/2018</td>\n",
              "    </tr>\n",
              "    <tr>\n",
              "      <th>14</th>\n",
              "      <td>22/07/2015</td>\n",
              "    </tr>\n",
              "    <tr>\n",
              "      <th>15</th>\n",
              "      <td>23/09/2016</td>\n",
              "    </tr>\n",
              "    <tr>\n",
              "      <th>16</th>\n",
              "      <td>06/07/2018</td>\n",
              "    </tr>\n",
              "    <tr>\n",
              "      <th>17</th>\n",
              "      <td>14/08/2018</td>\n",
              "    </tr>\n",
              "    <tr>\n",
              "      <th>18</th>\n",
              "      <td>10/11/2018</td>\n",
              "    </tr>\n",
              "    <tr>\n",
              "      <th>19</th>\n",
              "      <td>10/05/2018</td>\n",
              "    </tr>\n",
              "    <tr>\n",
              "      <th>20</th>\n",
              "      <td>25/11/2017</td>\n",
              "    </tr>\n",
              "    <tr>\n",
              "      <th>21</th>\n",
              "      <td>26/05/2018</td>\n",
              "    </tr>\n",
              "    <tr>\n",
              "      <th>22</th>\n",
              "      <td>18/12/2014</td>\n",
              "    </tr>\n",
              "    <tr>\n",
              "      <th>23</th>\n",
              "      <td>29/08/2017</td>\n",
              "    </tr>\n",
              "    <tr>\n",
              "      <th>24</th>\n",
              "      <td>31/08/2015</td>\n",
              "    </tr>\n",
              "    <tr>\n",
              "      <th>25</th>\n",
              "      <td>03/11/2014</td>\n",
              "    </tr>\n",
              "    <tr>\n",
              "      <th>26</th>\n",
              "      <td>28/04/2015</td>\n",
              "    </tr>\n",
              "    <tr>\n",
              "      <th>27</th>\n",
              "      <td>29/09/2016</td>\n",
              "    </tr>\n",
              "    <tr>\n",
              "      <th>28</th>\n",
              "      <td>13/02/2015</td>\n",
              "    </tr>\n",
              "    <tr>\n",
              "      <th>29</th>\n",
              "      <td>08/02/2018</td>\n",
              "    </tr>\n",
              "    <tr>\n",
              "      <th>30</th>\n",
              "      <td>16/05/2018</td>\n",
              "    </tr>\n",
              "    <tr>\n",
              "      <th>31</th>\n",
              "      <td>19/10/2016</td>\n",
              "    </tr>\n",
              "    <tr>\n",
              "      <th>32</th>\n",
              "      <td>01/05/2015</td>\n",
              "    </tr>\n",
              "    <tr>\n",
              "      <th>33</th>\n",
              "      <td>20/11/2015</td>\n",
              "    </tr>\n",
              "    <tr>\n",
              "      <th>34</th>\n",
              "      <td>12/09/2018</td>\n",
              "    </tr>\n",
              "    <tr>\n",
              "      <th>35</th>\n",
              "      <td>23/01/2015</td>\n",
              "    </tr>\n",
              "    <tr>\n",
              "      <th>36</th>\n",
              "      <td>18/06/2016</td>\n",
              "    </tr>\n",
              "    <tr>\n",
              "      <th>37</th>\n",
              "      <td>05/04/2015</td>\n",
              "    </tr>\n",
              "    <tr>\n",
              "      <th>38</th>\n",
              "      <td>27/11/2018</td>\n",
              "    </tr>\n",
              "    <tr>\n",
              "      <th>39</th>\n",
              "      <td>12/09/2016</td>\n",
              "    </tr>\n",
              "    <tr>\n",
              "      <th>40</th>\n",
              "      <td>16/10/2014</td>\n",
              "    </tr>\n",
              "    <tr>\n",
              "      <th>41</th>\n",
              "      <td>05/12/2015</td>\n",
              "    </tr>\n",
              "    <tr>\n",
              "      <th>42</th>\n",
              "      <td>18/02/2018</td>\n",
              "    </tr>\n",
              "    <tr>\n",
              "      <th>43</th>\n",
              "      <td>12/05/2015</td>\n",
              "    </tr>\n",
              "    <tr>\n",
              "      <th>44</th>\n",
              "      <td>25/03/2016</td>\n",
              "    </tr>\n",
              "    <tr>\n",
              "      <th>45</th>\n",
              "      <td>24/03/2019</td>\n",
              "    </tr>\n",
              "    <tr>\n",
              "      <th>46</th>\n",
              "      <td>06/11/2015</td>\n",
              "    </tr>\n",
              "    <tr>\n",
              "      <th>47</th>\n",
              "      <td>04/01/2016</td>\n",
              "    </tr>\n",
              "    <tr>\n",
              "      <th>48</th>\n",
              "      <td>01/03/2019</td>\n",
              "    </tr>\n",
              "    <tr>\n",
              "      <th>49</th>\n",
              "      <td>14/11/2015</td>\n",
              "    </tr>\n",
              "  </tbody>\n",
              "</table>\n",
              "</div>\n",
              "    <div class=\"colab-df-buttons\">\n",
              "\n",
              "  <div class=\"colab-df-container\">\n",
              "    <button class=\"colab-df-convert\" onclick=\"convertToInteractive('df-93550df9-c76c-4806-99d9-ec87e17d37ad')\"\n",
              "            title=\"Convert this dataframe to an interactive table.\"\n",
              "            style=\"display:none;\">\n",
              "\n",
              "  <svg xmlns=\"http://www.w3.org/2000/svg\" height=\"24px\" viewBox=\"0 -960 960 960\">\n",
              "    <path d=\"M120-120v-720h720v720H120Zm60-500h600v-160H180v160Zm220 220h160v-160H400v160Zm0 220h160v-160H400v160ZM180-400h160v-160H180v160Zm440 0h160v-160H620v160ZM180-180h160v-160H180v160Zm440 0h160v-160H620v160Z\"/>\n",
              "  </svg>\n",
              "    </button>\n",
              "\n",
              "  <style>\n",
              "    .colab-df-container {\n",
              "      display:flex;\n",
              "      gap: 12px;\n",
              "    }\n",
              "\n",
              "    .colab-df-convert {\n",
              "      background-color: #E8F0FE;\n",
              "      border: none;\n",
              "      border-radius: 50%;\n",
              "      cursor: pointer;\n",
              "      display: none;\n",
              "      fill: #1967D2;\n",
              "      height: 32px;\n",
              "      padding: 0 0 0 0;\n",
              "      width: 32px;\n",
              "    }\n",
              "\n",
              "    .colab-df-convert:hover {\n",
              "      background-color: #E2EBFA;\n",
              "      box-shadow: 0px 1px 2px rgba(60, 64, 67, 0.3), 0px 1px 3px 1px rgba(60, 64, 67, 0.15);\n",
              "      fill: #174EA6;\n",
              "    }\n",
              "\n",
              "    .colab-df-buttons div {\n",
              "      margin-bottom: 4px;\n",
              "    }\n",
              "\n",
              "    [theme=dark] .colab-df-convert {\n",
              "      background-color: #3B4455;\n",
              "      fill: #D2E3FC;\n",
              "    }\n",
              "\n",
              "    [theme=dark] .colab-df-convert:hover {\n",
              "      background-color: #434B5C;\n",
              "      box-shadow: 0px 1px 3px 1px rgba(0, 0, 0, 0.15);\n",
              "      filter: drop-shadow(0px 1px 2px rgba(0, 0, 0, 0.3));\n",
              "      fill: #FFFFFF;\n",
              "    }\n",
              "  </style>\n",
              "\n",
              "    <script>\n",
              "      const buttonEl =\n",
              "        document.querySelector('#df-93550df9-c76c-4806-99d9-ec87e17d37ad button.colab-df-convert');\n",
              "      buttonEl.style.display =\n",
              "        google.colab.kernel.accessAllowed ? 'block' : 'none';\n",
              "\n",
              "      async function convertToInteractive(key) {\n",
              "        const element = document.querySelector('#df-93550df9-c76c-4806-99d9-ec87e17d37ad');\n",
              "        const dataTable =\n",
              "          await google.colab.kernel.invokeFunction('convertToInteractive',\n",
              "                                                    [key], {});\n",
              "        if (!dataTable) return;\n",
              "\n",
              "        const docLinkHtml = 'Like what you see? Visit the ' +\n",
              "          '<a target=\"_blank\" href=https://colab.research.google.com/notebooks/data_table.ipynb>data table notebook</a>'\n",
              "          + ' to learn more about interactive tables.';\n",
              "        element.innerHTML = '';\n",
              "        dataTable['output_type'] = 'display_data';\n",
              "        await google.colab.output.renderOutput(dataTable, element);\n",
              "        const docLink = document.createElement('div');\n",
              "        docLink.innerHTML = docLinkHtml;\n",
              "        element.appendChild(docLink);\n",
              "      }\n",
              "    </script>\n",
              "  </div>\n",
              "\n",
              "\n",
              "<div id=\"df-116780bb-2027-4b50-bbb9-eacca505e6e1\">\n",
              "  <button class=\"colab-df-quickchart\" onclick=\"quickchart('df-116780bb-2027-4b50-bbb9-eacca505e6e1')\"\n",
              "            title=\"Suggest charts.\"\n",
              "            style=\"display:none;\">\n",
              "\n",
              "<svg xmlns=\"http://www.w3.org/2000/svg\" height=\"24px\"viewBox=\"0 0 24 24\"\n",
              "     width=\"24px\">\n",
              "    <g>\n",
              "        <path d=\"M19 3H5c-1.1 0-2 .9-2 2v14c0 1.1.9 2 2 2h14c1.1 0 2-.9 2-2V5c0-1.1-.9-2-2-2zM9 17H7v-7h2v7zm4 0h-2V7h2v10zm4 0h-2v-4h2v4z\"/>\n",
              "    </g>\n",
              "</svg>\n",
              "  </button>\n",
              "\n",
              "<style>\n",
              "  .colab-df-quickchart {\n",
              "      --bg-color: #E8F0FE;\n",
              "      --fill-color: #1967D2;\n",
              "      --hover-bg-color: #E2EBFA;\n",
              "      --hover-fill-color: #174EA6;\n",
              "      --disabled-fill-color: #AAA;\n",
              "      --disabled-bg-color: #DDD;\n",
              "  }\n",
              "\n",
              "  [theme=dark] .colab-df-quickchart {\n",
              "      --bg-color: #3B4455;\n",
              "      --fill-color: #D2E3FC;\n",
              "      --hover-bg-color: #434B5C;\n",
              "      --hover-fill-color: #FFFFFF;\n",
              "      --disabled-bg-color: #3B4455;\n",
              "      --disabled-fill-color: #666;\n",
              "  }\n",
              "\n",
              "  .colab-df-quickchart {\n",
              "    background-color: var(--bg-color);\n",
              "    border: none;\n",
              "    border-radius: 50%;\n",
              "    cursor: pointer;\n",
              "    display: none;\n",
              "    fill: var(--fill-color);\n",
              "    height: 32px;\n",
              "    padding: 0;\n",
              "    width: 32px;\n",
              "  }\n",
              "\n",
              "  .colab-df-quickchart:hover {\n",
              "    background-color: var(--hover-bg-color);\n",
              "    box-shadow: 0 1px 2px rgba(60, 64, 67, 0.3), 0 1px 3px 1px rgba(60, 64, 67, 0.15);\n",
              "    fill: var(--button-hover-fill-color);\n",
              "  }\n",
              "\n",
              "  .colab-df-quickchart-complete:disabled,\n",
              "  .colab-df-quickchart-complete:disabled:hover {\n",
              "    background-color: var(--disabled-bg-color);\n",
              "    fill: var(--disabled-fill-color);\n",
              "    box-shadow: none;\n",
              "  }\n",
              "\n",
              "  .colab-df-spinner {\n",
              "    border: 2px solid var(--fill-color);\n",
              "    border-color: transparent;\n",
              "    border-bottom-color: var(--fill-color);\n",
              "    animation:\n",
              "      spin 1s steps(1) infinite;\n",
              "  }\n",
              "\n",
              "  @keyframes spin {\n",
              "    0% {\n",
              "      border-color: transparent;\n",
              "      border-bottom-color: var(--fill-color);\n",
              "      border-left-color: var(--fill-color);\n",
              "    }\n",
              "    20% {\n",
              "      border-color: transparent;\n",
              "      border-left-color: var(--fill-color);\n",
              "      border-top-color: var(--fill-color);\n",
              "    }\n",
              "    30% {\n",
              "      border-color: transparent;\n",
              "      border-left-color: var(--fill-color);\n",
              "      border-top-color: var(--fill-color);\n",
              "      border-right-color: var(--fill-color);\n",
              "    }\n",
              "    40% {\n",
              "      border-color: transparent;\n",
              "      border-right-color: var(--fill-color);\n",
              "      border-top-color: var(--fill-color);\n",
              "    }\n",
              "    60% {\n",
              "      border-color: transparent;\n",
              "      border-right-color: var(--fill-color);\n",
              "    }\n",
              "    80% {\n",
              "      border-color: transparent;\n",
              "      border-right-color: var(--fill-color);\n",
              "      border-bottom-color: var(--fill-color);\n",
              "    }\n",
              "    90% {\n",
              "      border-color: transparent;\n",
              "      border-bottom-color: var(--fill-color);\n",
              "    }\n",
              "  }\n",
              "</style>\n",
              "\n",
              "  <script>\n",
              "    async function quickchart(key) {\n",
              "      const quickchartButtonEl =\n",
              "        document.querySelector('#' + key + ' button');\n",
              "      quickchartButtonEl.disabled = true;  // To prevent multiple clicks.\n",
              "      quickchartButtonEl.classList.add('colab-df-spinner');\n",
              "      try {\n",
              "        const charts = await google.colab.kernel.invokeFunction(\n",
              "            'suggestCharts', [key], {});\n",
              "      } catch (error) {\n",
              "        console.error('Error during call to suggestCharts:', error);\n",
              "      }\n",
              "      quickchartButtonEl.classList.remove('colab-df-spinner');\n",
              "      quickchartButtonEl.classList.add('colab-df-quickchart-complete');\n",
              "    }\n",
              "    (() => {\n",
              "      let quickchartButtonEl =\n",
              "        document.querySelector('#df-116780bb-2027-4b50-bbb9-eacca505e6e1 button');\n",
              "      quickchartButtonEl.style.display =\n",
              "        google.colab.kernel.accessAllowed ? 'block' : 'none';\n",
              "    })();\n",
              "  </script>\n",
              "</div>\n",
              "    </div>\n",
              "  </div>\n"
            ]
          },
          "metadata": {},
          "execution_count": 41
        }
      ],
      "source": [
        "# Unificar los Archivos\n",
        "directorio = r'/content/drive/MyDrive/Colab Notebooks/Laboratorio_3/Datos'\n",
        "fechas = []\n",
        "\n",
        "for filename in os.listdir(directorio):\n",
        "    if filename.endswith('.txt'):\n",
        "        filepath = os.path.join(directorio, filename)\n",
        "        with open(filepath, 'r', encoding='utf-8-sig') as file:\n",
        "            for line in file:\n",
        "                fecha = line.strip()\n",
        "                fechas.append(fecha)\n",
        "\n",
        "# Crear el Dataframe\n",
        "datos = pd.DataFrame({'Fecha': fechas})\n",
        "datos.head(50)"
      ]
    },
    {
      "cell_type": "code",
      "execution_count": null,
      "metadata": {
        "colab": {
          "base_uri": "https://localhost:8080/"
        },
        "id": "gPXLjkqrgzpl",
        "outputId": "89c2092f-afe3-4ed8-d7b4-50ffee7014c8"
      },
      "outputs": [
        {
          "output_type": "stream",
          "name": "stdout",
          "text": [
            "<class 'pandas.core.frame.DataFrame'>\n",
            "RangeIndex: 21000 entries, 0 to 20999\n",
            "Data columns (total 1 columns):\n",
            " #   Column  Non-Null Count  Dtype \n",
            "---  ------  --------------  ----- \n",
            " 0   Fecha   21000 non-null  object\n",
            "dtypes: object(1)\n",
            "memory usage: 164.2+ KB\n"
          ]
        }
      ],
      "source": [
        "# Exploracion de Dataset\n",
        "datos.info()"
      ]
    },
    {
      "cell_type": "code",
      "source": [
        "print(datos.describe())"
      ],
      "metadata": {
        "colab": {
          "base_uri": "https://localhost:8080/"
        },
        "id": "yGYgbZT-k5AN",
        "outputId": "a4c36700-c93e-429f-f47b-ccc005b8747f"
      },
      "execution_count": null,
      "outputs": [
        {
          "output_type": "stream",
          "name": "stdout",
          "text": [
            "             Fecha\n",
            "count        21000\n",
            "unique        5209\n",
            "top     14.04.2016\n",
            "freq            15\n"
          ]
        }
      ]
    },
    {
      "cell_type": "code",
      "source": [
        "# Función para convertir las fechas en un formato (día-mes-año)\n",
        "def convertir_fecha(fecha):\n",
        "    meses_ingles = {\n",
        "        'Jan': '01', 'Feb': '02', 'Mar': '03', 'Apr': '04',\n",
        "        'May': '05', 'Jun': '06', 'Jul': '07', 'Aug': '08',\n",
        "        'Sep': '09', 'Oct': '10', 'Nov': '11', 'Dec': '12'\n",
        "    }\n",
        "\n",
        "    # Expresiones regulares para extraer los componentes de la fecha\n",
        "    patron = r'(\\d{1,2})[-/ ](\\d{1,2}|\\w{3})[-/ ](\\d{2,4})'\n",
        "    coincidencias = re.search(patron, fecha)\n",
        "\n",
        "    if coincidencias:\n",
        "        dia = coincidencias.group(1)\n",
        "        mes = coincidencias.group(2)\n",
        "        año = coincidencias.group(3)\n",
        "\n",
        "        # Si el mes es un número, validar que tenga 2 dígitos\n",
        "        if mes.isdigit():\n",
        "            mes = mes.zfill(2)\n",
        "        else:\n",
        "            # Si el mes es un nombre en inglés, cenvertirlo al formato numérico\n",
        "            mes = meses_ingles.get(mes)\n",
        "\n",
        "        # Si el año tiene solo 2 dígitos, convertirlo a formato de 4 dígitos\n",
        "        if len(año) == 2:\n",
        "            año = '20' + año\n",
        "\n",
        "        # Devuelve la fecha en el formato uniforme\n",
        "        return f'{dia}-{mes}-{año}'\n",
        "\n",
        "# Aplica la función de conversión al dataframe\n",
        "datos['Fecha'] = datos['Fecha'].apply(convertir_fecha)\n",
        "\n",
        "datos['Fecha'] = pd.to_datetime(datos['Fecha'], format='%d-%m-%Y')\n",
        "\n",
        "# Calcular el promedio de las fechas en el dataframe\n",
        "promedio_fechas = datos['Fecha'].mean()\n",
        "\n",
        "# Imprimir resultados\n",
        "print(promedio_fechas)"
      ],
      "metadata": {
        "colab": {
          "base_uri": "https://localhost:8080/"
        },
        "id": "AsW5N6hRoWEe",
        "outputId": "762bec98-3926-4ea1-8930-39880d8df3ad"
      },
      "execution_count": null,
      "outputs": [
        {
          "output_type": "stream",
          "name": "stdout",
          "text": [
            "2017-03-04 01:32:29.538461440\n"
          ]
        }
      ]
    },
    {
      "cell_type": "code",
      "source": [
        "print(datos.describe(datetime_is_numeric=True))"
      ],
      "metadata": {
        "colab": {
          "base_uri": "https://localhost:8080/"
        },
        "id": "LnTGUTUbqaW6",
        "outputId": "15bc6d34-67b4-4fee-c52e-5251a099a5fb"
      },
      "execution_count": null,
      "outputs": [
        {
          "output_type": "stream",
          "name": "stdout",
          "text": [
            "                               Fecha\n",
            "count                          13000\n",
            "mean   2017-03-04 01:32:29.538461440\n",
            "min              2014-10-01 00:00:00\n",
            "25%              2015-12-28 00:00:00\n",
            "50%              2017-02-25 00:00:00\n",
            "75%              2018-05-19 00:00:00\n",
            "max              2019-08-08 00:00:00\n"
          ]
        }
      ]
    }
  ],
  "metadata": {
    "kernelspec": {
      "display_name": "Python 3",
      "language": "python",
      "name": "python3"
    },
    "language_info": {
      "codemirror_mode": {
        "name": "ipython",
        "version": 3
      },
      "file_extension": ".py",
      "mimetype": "text/x-python",
      "name": "python",
      "nbconvert_exporter": "python",
      "pygments_lexer": "ipython3",
      "version": "3.11.5"
    },
    "orig_nbformat": 4,
    "colab": {
      "provenance": []
    }
  },
  "nbformat": 4,
  "nbformat_minor": 0
}